{
 "cells": [
  {
   "cell_type": "markdown",
   "id": "10542115-dd10-4cf4-b491-cccec15b2ba3",
   "metadata": {},
   "source": [
    "<h1>Working with PDF Files</h1>\n",
    "<li>PDF stands for Portable Document Format and was developed by Adobe in the 1990s</li>\n",
    "<li>The most important thing to keep in mind is that while PDF's share the same extension and can be viewed in PDF readers, many PDF's are <strong>not</strong> machine readable through Python</li>\n",
    "<li>Since PDF's mainly encapsulate and display a fixed-layout flat document, there is no machine readable standard format, unlike CSV files</li>\n",
    "<li>This means that a PDF that was simply scanned is highly unlikely to be readable</li>\n",
    "<li>Additions to PDF's such as images, tables, format adjustments can also render a PDF unreadable by Python</li>\n",
    "<li>There are many paid PDF programs that can read and extract from these files, but we will use the open-source and free <strong>PyPDF2</strong> library</li>\n",
    "<li>We've made sure that the PDF files included in this course material are readable by PyPDF2</li>\n",
    "<li>Unfortunately we can't offer assistance for you own personal PDF files if they are not readable by PyPDF2</li>"
   ]
  },
  {
   "cell_type": "code",
   "execution_count": 1,
   "id": "9f61b0d0-8e7a-46b8-8636-4d190bc44c64",
   "metadata": {},
   "outputs": [],
   "source": [
    "import PyPDF2"
   ]
  },
  {
   "cell_type": "code",
   "execution_count": 2,
   "id": "889e17bd-7d34-4fc0-a6f9-b0faf051202e",
   "metadata": {},
   "outputs": [],
   "source": [
    "f = open('Working_Business_Proposal.pdf', 'rb')"
   ]
  },
  {
   "cell_type": "code",
   "execution_count": 4,
   "id": "c8ae4990-4d18-4f71-9942-85a488ee90ab",
   "metadata": {},
   "outputs": [],
   "source": [
    "pdf_reader = PyPDF2.PdfReader(f)"
   ]
  },
  {
   "cell_type": "code",
   "execution_count": 7,
   "id": "883eb485-7a67-426e-b8ca-4cc1052e52d5",
   "metadata": {},
   "outputs": [
    {
     "data": {
      "text/plain": [
       "5"
      ]
     },
     "execution_count": 7,
     "metadata": {},
     "output_type": "execute_result"
    }
   ],
   "source": [
    "len(pdf_reader.pages)"
   ]
  },
  {
   "cell_type": "code",
   "execution_count": 11,
   "id": "cdc456d3-a32f-4080-aa95-4eb1309dd22f",
   "metadata": {},
   "outputs": [],
   "source": [
    "page_one = pdf_reader.pages[0]"
   ]
  },
  {
   "cell_type": "code",
   "execution_count": 12,
   "id": "8211a684-6af0-4ff0-b636-4a98415ffb92",
   "metadata": {},
   "outputs": [],
   "source": [
    "page_one_text = page_one.extract_text()"
   ]
  },
  {
   "cell_type": "code",
   "execution_count": 13,
   "id": "b09ccdc1-0355-43a9-b593-4a3329bfcff0",
   "metadata": {},
   "outputs": [
    {
     "data": {
      "text/plain": [
       "'Business Proposal The Revolution is Coming Leverage agile frameworks to provide a robust synopsis for high level overviews. Iterative approaches to corporate strategy foster collaborative thinking to further the overall value proposition. Organically grow the holistic world view of disruptive innovation via workplace diversity and empowerment. Bring to the table win-win survival strategies to ensure proactive domination. At the end of the day, going forward, a new normal that has evolved from generation X is on the runway heading towards a streamlined cloud solution. User generated content in real-time will have multiple touchpoints for offshoring. Capitalize on low hanging fruit to identify a ballpark value added activity to beta test. Override the digital divide with additional clickthroughs from DevOps. Nanotechnology immersion along the information highway will close the loop on focusing solely on the bottom line. Podcasting operational change management inside of workﬂows to establish a framework. Taking seamless key performance indicators ofﬂine to maximise the long tail. Keeping your eye on the ball while performing a deep dive on the start-up mentality to derive convergence on cross-platform integration. Collaboratively administrate empowered markets via plug-and-play networks. Dynamically procrastinate B2C users after installed base beneﬁts. Dramatically visualize customer directed convergence without revolutionary ROI. Efﬁciently unleash cross-media information without cross-media value. Quickly maximize timely deliverables for real-time schemas. Dramatically maintain clicks-and-mortar solutions without functional solutions. BUSINESS PROPOSAL!1'"
      ]
     },
     "execution_count": 13,
     "metadata": {},
     "output_type": "execute_result"
    }
   ],
   "source": [
    "page_one_text"
   ]
  },
  {
   "cell_type": "code",
   "execution_count": 14,
   "id": "0b1b156d-68cd-423d-afd6-5bffe2e47fbc",
   "metadata": {},
   "outputs": [],
   "source": [
    "f.close()"
   ]
  },
  {
   "cell_type": "code",
   "execution_count": 16,
   "id": "92c15d93-a25b-47af-b5ac-b964802292da",
   "metadata": {},
   "outputs": [],
   "source": [
    "f = open('Working_Business_Proposal.pdf', 'rb')\n",
    "pdf_reader = PyPDF2.PdfReader(f)"
   ]
  },
  {
   "cell_type": "code",
   "execution_count": 17,
   "id": "a416ce2c-e3ca-4cdb-976d-d70c0359f78e",
   "metadata": {},
   "outputs": [],
   "source": [
    "first_page = pdf_reader.pages[0]"
   ]
  },
  {
   "cell_type": "code",
   "execution_count": 19,
   "id": "c83d7907-dd27-498c-90df-39e80182280e",
   "metadata": {},
   "outputs": [],
   "source": [
    "pdf_writer = PyPDF2.PdfWriter()"
   ]
  },
  {
   "cell_type": "code",
   "execution_count": 20,
   "id": "53f0aafb-ce8a-4980-a4e6-be955b3c729e",
   "metadata": {},
   "outputs": [
    {
     "data": {
      "text/plain": [
       "PyPDF2._page.PageObject"
      ]
     },
     "execution_count": 20,
     "metadata": {},
     "output_type": "execute_result"
    }
   ],
   "source": [
    "type(first_page)"
   ]
  },
  {
   "cell_type": "code",
   "execution_count": 22,
   "id": "858b4774-c3cd-4684-9700-e3bbb074b045",
   "metadata": {},
   "outputs": [
    {
     "data": {
      "text/plain": [
       "{'/Type': '/Page',\n",
       " '/Resources': {'/ProcSet': ['/PDF', '/Text'],\n",
       "  '/ColorSpace': {'/Cs1': ['/ICCBased', IndirectObject(7, 0, 1676689358224)]},\n",
       "  '/Font': {'/TT2': {'/Type': '/Font',\n",
       "    '/Subtype': '/TrueType',\n",
       "    '/BaseFont': '/URTVHR+Helvetica-Light',\n",
       "    '/FontDescriptor': {'/Type': '/FontDescriptor',\n",
       "     '/FontName': '/URTVHR+Helvetica-Light',\n",
       "     '/Flags': 32,\n",
       "     '/FontBBox': [-453, -355, 1345, 1206],\n",
       "     '/ItalicAngle': 0,\n",
       "     '/Ascent': 770,\n",
       "     '/Descent': -230,\n",
       "     '/CapHeight': 718,\n",
       "     '/StemV': 68,\n",
       "     '/XHeight': 524,\n",
       "     '/StemH': 58,\n",
       "     '/AvgWidth': 600,\n",
       "     '/MaxWidth': 1445,\n",
       "     '/FontFile2': {'/Length1': 13268, '/Filter': '/FlateDecode'}},\n",
       "    '/Encoding': '/MacRomanEncoding',\n",
       "    '/FirstChar': 32,\n",
       "    '/LastChar': 223,\n",
       "    '/Widths': [278,\n",
       "     0,\n",
       "     278,\n",
       "     0,\n",
       "     0,\n",
       "     0,\n",
       "     0,\n",
       "     0,\n",
       "     0,\n",
       "     0,\n",
       "     0,\n",
       "     0,\n",
       "     278,\n",
       "     333,\n",
       "     278,\n",
       "     278,\n",
       "     556,\n",
       "     0,\n",
       "     556,\n",
       "     0,\n",
       "     556,\n",
       "     0,\n",
       "     0,\n",
       "     556,\n",
       "     0,\n",
       "     0,\n",
       "     0,\n",
       "     0,\n",
       "     0,\n",
       "     0,\n",
       "     0,\n",
       "     0,\n",
       "     0,\n",
       "     667,\n",
       "     667,\n",
       "     722,\n",
       "     722,\n",
       "     611,\n",
       "     0,\n",
       "     778,\n",
       "     722,\n",
       "     278,\n",
       "     0,\n",
       "     667,\n",
       "     556,\n",
       "     0,\n",
       "     722,\n",
       "     778,\n",
       "     611,\n",
       "     778,\n",
       "     667,\n",
       "     611,\n",
       "     556,\n",
       "     722,\n",
       "     0,\n",
       "     0,\n",
       "     611,\n",
       "     0,\n",
       "     0,\n",
       "     0,\n",
       "     0,\n",
       "     0,\n",
       "     0,\n",
       "     0,\n",
       "     0,\n",
       "     556,\n",
       "     611,\n",
       "     556,\n",
       "     611,\n",
       "     556,\n",
       "     278,\n",
       "     611,\n",
       "     556,\n",
       "     222,\n",
       "     222,\n",
       "     500,\n",
       "     222,\n",
       "     833,\n",
       "     556,\n",
       "     556,\n",
       "     611,\n",
       "     611,\n",
       "     333,\n",
       "     500,\n",
       "     278,\n",
       "     556,\n",
       "     500,\n",
       "     722,\n",
       "     500,\n",
       "     500,\n",
       "     500,\n",
       "     0,\n",
       "     0,\n",
       "     0,\n",
       "     0,\n",
       "     0,\n",
       "     0,\n",
       "     0,\n",
       "     0,\n",
       "     0,\n",
       "     0,\n",
       "     0,\n",
       "     0,\n",
       "     0,\n",
       "     0,\n",
       "     0,\n",
       "     0,\n",
       "     0,\n",
       "     0,\n",
       "     0,\n",
       "     0,\n",
       "     0,\n",
       "     0,\n",
       "     0,\n",
       "     0,\n",
       "     0,\n",
       "     0,\n",
       "     0,\n",
       "     0,\n",
       "     0,\n",
       "     0,\n",
       "     0,\n",
       "     0,\n",
       "     0,\n",
       "     0,\n",
       "     0,\n",
       "     0,\n",
       "     0,\n",
       "     0,\n",
       "     0,\n",
       "     0,\n",
       "     0,\n",
       "     0,\n",
       "     0,\n",
       "     0,\n",
       "     0,\n",
       "     0,\n",
       "     0,\n",
       "     0,\n",
       "     0,\n",
       "     0,\n",
       "     0,\n",
       "     0,\n",
       "     0,\n",
       "     0,\n",
       "     0,\n",
       "     0,\n",
       "     0,\n",
       "     0,\n",
       "     0,\n",
       "     0,\n",
       "     0,\n",
       "     0,\n",
       "     0,\n",
       "     0,\n",
       "     0,\n",
       "     0,\n",
       "     0,\n",
       "     0,\n",
       "     0,\n",
       "     0,\n",
       "     0,\n",
       "     0,\n",
       "     0,\n",
       "     0,\n",
       "     0,\n",
       "     0,\n",
       "     0,\n",
       "     0,\n",
       "     0,\n",
       "     0,\n",
       "     0,\n",
       "     0,\n",
       "     0,\n",
       "     0,\n",
       "     0,\n",
       "     0,\n",
       "     0,\n",
       "     0,\n",
       "     0,\n",
       "     0,\n",
       "     0,\n",
       "     0,\n",
       "     0,\n",
       "     0,\n",
       "     0,\n",
       "     0,\n",
       "     0,\n",
       "     0,\n",
       "     0,\n",
       "     500,\n",
       "     500]},\n",
       "   '/TT1': {'/Type': '/Font',\n",
       "    '/Subtype': '/TrueType',\n",
       "    '/BaseFont': '/SLRTDM+Baskerville',\n",
       "    '/FontDescriptor': {'/Type': '/FontDescriptor',\n",
       "     '/FontName': '/SLRTDM+Baskerville',\n",
       "     '/Flags': 32,\n",
       "     '/FontBBox': [-506, -344, 1765, 961],\n",
       "     '/ItalicAngle': 0,\n",
       "     '/Ascent': 898,\n",
       "     '/Descent': -246,\n",
       "     '/CapHeight': 669,\n",
       "     '/StemV': 96,\n",
       "     '/XHeight': 400,\n",
       "     '/StemH': 22,\n",
       "     '/AvgWidth': 579,\n",
       "     '/MaxWidth': 1791,\n",
       "     '/FontFile2': {'/Length1': 5016, '/Filter': '/FlateDecode'}},\n",
       "    '/Encoding': '/MacRomanEncoding',\n",
       "    '/FirstChar': 32,\n",
       "    '/LastChar': 118,\n",
       "    '/Widths': [250,\n",
       "     0,\n",
       "     0,\n",
       "     0,\n",
       "     0,\n",
       "     0,\n",
       "     0,\n",
       "     0,\n",
       "     0,\n",
       "     0,\n",
       "     0,\n",
       "     0,\n",
       "     0,\n",
       "     0,\n",
       "     0,\n",
       "     0,\n",
       "     0,\n",
       "     500,\n",
       "     500,\n",
       "     500,\n",
       "     500,\n",
       "     500,\n",
       "     0,\n",
       "     0,\n",
       "     0,\n",
       "     0,\n",
       "     0,\n",
       "     0,\n",
       "     0,\n",
       "     0,\n",
       "     0,\n",
       "     0,\n",
       "     0,\n",
       "     677,\n",
       "     615,\n",
       "     719,\n",
       "     0,\n",
       "     625,\n",
       "     0,\n",
       "     0,\n",
       "     0,\n",
       "     354,\n",
       "     0,\n",
       "     0,\n",
       "     604,\n",
       "     0,\n",
       "     750,\n",
       "     823,\n",
       "     563,\n",
       "     0,\n",
       "     729,\n",
       "     542,\n",
       "     698,\n",
       "     771,\n",
       "     0,\n",
       "     0,\n",
       "     0,\n",
       "     0,\n",
       "     0,\n",
       "     0,\n",
       "     0,\n",
       "     0,\n",
       "     0,\n",
       "     0,\n",
       "     0,\n",
       "     469,\n",
       "     0,\n",
       "     0,\n",
       "     0,\n",
       "     438,\n",
       "     0,\n",
       "     469,\n",
       "     531,\n",
       "     250,\n",
       "     0,\n",
       "     0,\n",
       "     240,\n",
       "     802,\n",
       "     531,\n",
       "     500,\n",
       "     521,\n",
       "     0,\n",
       "     365,\n",
       "     333,\n",
       "     292,\n",
       "     521,\n",
       "     458]},\n",
       "   '/TT3': {'/Type': '/Font',\n",
       "    '/Subtype': '/TrueType',\n",
       "    '/BaseFont': '/VJMLYK+Baskerville',\n",
       "    '/FontDescriptor': {'/Type': '/FontDescriptor',\n",
       "     '/FontName': '/VJMLYK+Baskerville',\n",
       "     '/Flags': 4,\n",
       "     '/FontBBox': [-506, -344, 1765, 961],\n",
       "     '/ItalicAngle': 0,\n",
       "     '/Ascent': 898,\n",
       "     '/Descent': -246,\n",
       "     '/CapHeight': 669,\n",
       "     '/StemV': 96,\n",
       "     '/XHeight': 400,\n",
       "     '/StemH': 22,\n",
       "     '/AvgWidth': 579,\n",
       "     '/MaxWidth': 1791,\n",
       "     '/FontFile2': {'/Length1': 508, '/Filter': '/FlateDecode'}},\n",
       "    '/ToUnicode': {'/Filter': '/FlateDecode'},\n",
       "    '/FirstChar': 33,\n",
       "    '/LastChar': 33,\n",
       "    '/Widths': [0]}}},\n",
       " '/Contents': {'/Filter': '/FlateDecode'},\n",
       " '/MediaBox': [0, 0, 612, 792],\n",
       " '/Parent': {'/Type': '/Pages',\n",
       "  '/Count': 1,\n",
       "  '/Kids': [IndirectObject(4, 0, 1676689358224)]}}"
      ]
     },
     "execution_count": 22,
     "metadata": {},
     "output_type": "execute_result"
    }
   ],
   "source": [
    "pdf_writer.add_page(first_page)"
   ]
  },
  {
   "cell_type": "code",
   "execution_count": 23,
   "id": "1a8bb2c7-0d79-4575-8d37-206f076efc00",
   "metadata": {},
   "outputs": [],
   "source": [
    "pdf_output = open('Some_BrandNre_Doc.pdf', 'wb')"
   ]
  },
  {
   "cell_type": "code",
   "execution_count": 24,
   "id": "3a22f2d8-60b4-4631-b54c-b3c3747725ef",
   "metadata": {},
   "outputs": [
    {
     "data": {
      "text/plain": [
       "(False, <_io.BufferedWriter name='Some_BrandNre_Doc.pdf'>)"
      ]
     },
     "execution_count": 24,
     "metadata": {},
     "output_type": "execute_result"
    }
   ],
   "source": [
    "pdf_writer.write(pdf_output)"
   ]
  },
  {
   "cell_type": "code",
   "execution_count": 26,
   "id": "80320d6d-9c85-4d01-bdb6-2c85718ed1b5",
   "metadata": {},
   "outputs": [],
   "source": [
    "f.close()"
   ]
  },
  {
   "cell_type": "code",
   "execution_count": 27,
   "id": "15f9ac6d-8fdc-4eba-904c-63fe84173bdf",
   "metadata": {},
   "outputs": [],
   "source": [
    "pdf_output.close()"
   ]
  },
  {
   "cell_type": "code",
   "execution_count": 31,
   "id": "b3b3c096-f1ec-4d43-8f09-dbc4146a8570",
   "metadata": {},
   "outputs": [],
   "source": [
    "f = open('Working_Business_Proposal.pdf', 'rb')\n",
    "\n",
    "pdf_text = []\n",
    "\n",
    "pdf_reader = PyPDF2.PdfReader(f)\n",
    "\n",
    "for num in range(len(pdf_reader.pages)):\n",
    "    page = pdf_reader.pages[num]\n",
    "    pdf_text.append(page.extract_text())"
   ]
  },
  {
   "cell_type": "code",
   "execution_count": 40,
   "id": "01947769-0e0b-43b4-a178-d736bdd89f11",
   "metadata": {},
   "outputs": [
    {
     "name": "stdout",
     "output_type": "stream",
     "text": [
      "Completely synergize resource taxing relationships via premier niche markets. Professionally cultivate one-to-one customer service with robust ideas. Dynamically innovate resource-leveling customer service for state of the art customer service. Objectively innovate empowered manufactured products whereas parallel platforms. Holisticly predominate extensible testing procedures for reliable supply chains. Dramatically engage top-line web services vis-a-vis cutting-edge deliverables. Proactively envisioned multimedia based expertise and cross-media growth strategies. Seamlessly visualize quality intellectual capital without superior collaboration and idea-sharing. Holistically pontiﬁcate installed base portals after maintainable products. Phosﬂuorescently engage worldwide methodologies with web-enabled technology. Interactively coordinate proactive e-commerce via process-centric \"outside the box\" thinking. Completely pursue scalable customer service through sustainable potentialities. Collaboratively administrate turnkey channels whereas virtual e-tailers. Objectively seize scalable metrics whereas proactive e-services. Seamlessly empower fully researched growth strategies and interoperable internal or \"organic\" sources. Credibly innovate granular internal or \"organic\" sources whereas high standards in web-readiness. Energistically scale future-proof core competencies vis-a-vis impactful experiences. Dramatically synthesize integrated schemas with optimal networks. Interactively procrastinate high-payoff content without backward-compatible data. Quickly cultivate optimal processes and tactical architectures. Completely iterate covalent strategic theme areas via accurate e-markets. Globally incubate standards compliant channels before scalable beneﬁts. Quickly disseminate superior deliverables whereas web-enabled BUSINESS PROPOSAL!2\n"
     ]
    }
   ],
   "source": [
    "print(pdf_text[1])"
   ]
  },
  {
   "cell_type": "code",
   "execution_count": null,
   "id": "f14f2043-89bc-48b7-ae46-6b1baa2a2f32",
   "metadata": {},
   "outputs": [],
   "source": []
  }
 ],
 "metadata": {
  "kernelspec": {
   "display_name": "Python 3 (ipykernel)",
   "language": "python",
   "name": "python3"
  },
  "language_info": {
   "codemirror_mode": {
    "name": "ipython",
    "version": 3
   },
   "file_extension": ".py",
   "mimetype": "text/x-python",
   "name": "python",
   "nbconvert_exporter": "python",
   "pygments_lexer": "ipython3",
   "version": "3.11.7"
  }
 },
 "nbformat": 4,
 "nbformat_minor": 5
}
